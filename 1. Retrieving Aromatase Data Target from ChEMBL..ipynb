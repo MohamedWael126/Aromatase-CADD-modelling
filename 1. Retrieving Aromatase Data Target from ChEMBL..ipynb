{
 "cells": [
  {
   "cell_type": "code",
   "execution_count": null,
   "id": "2c9ebecb",
   "metadata": {},
   "outputs": [],
   "source": []
  },
  {
   "cell_type": "code",
   "execution_count": null,
   "id": "088f92b1",
   "metadata": {},
   "outputs": [],
   "source": []
  },
  {
   "cell_type": "code",
   "execution_count": 1,
   "id": "e66eded1",
   "metadata": {},
   "outputs": [],
   "source": [
    "# Importing necessary libraries.\n",
    "import pandas as pd\n",
    "from rdkit import Chem\n",
    "from rdkit.Chem import AllChem\n",
    "from rdkit.Chem.rdDepictor import Compute2DCoords\n",
    "from io import StringIO\n",
    "import mols2grid\n",
    "import tqdm\n",
    "\n",
    "import math\n",
    "from pathlib import Path\n",
    "from zipfile import ZipFile\n",
    "from tempfile import TemporaryDirectory\n",
    "\n",
    "import numpy as np\n",
    "import pandas as pd\n",
    "from rdkit.Chem import PandasTools\n",
    "from chembl_webresource_client.new_client import new_client\n",
    "from tqdm.auto import tqdm\n",
    "\n",
    "from chembl_webresource_client.new_client import new_client\n",
    "\n",
    "from scaffold_finder import generate_fragments, find_scaffolds, get_molecules_with_scaffold, cleanup_fragment"
   ]
  },
  {
   "cell_type": "code",
   "execution_count": 2,
   "id": "2417f36f",
   "metadata": {},
   "outputs": [],
   "source": [
    "targets_api = new_client.target\n",
    "compounds_api = new_client.molecule\n",
    "bioactivities_api = new_client.activity"
   ]
  },
  {
   "cell_type": "code",
   "execution_count": 3,
   "id": "74a37f8d",
   "metadata": {},
   "outputs": [
    {
     "name": "stdout",
     "output_type": "stream",
     "text": [
      "The type of the targets is \"<class 'chembl_webresource_client.query_set.QuerySet'>\"\n"
     ]
    }
   ],
   "source": [
    "# Get UniProt ID of the target of interest (Colorectal cancer) from UniProt website.\n",
    "\n",
    "uniprot_id = \"P11511\"\n",
    "\n",
    "# Get target information from ChEMBL but restrict it to specified values only\n",
    "targets = targets_api.get(target_components__accession=uniprot_id).only(\n",
    "    \"target_chembl_id\", \"organism\", \"pref_name\", \"target_type\"\n",
    ")\n",
    "print(f'The type of the targets is \"{type(targets)}\"')\n"
   ]
  },
  {
   "cell_type": "code",
   "execution_count": 4,
   "id": "4a70c96c",
   "metadata": {},
   "outputs": [
    {
     "data": {
      "text/html": [
       "<div>\n",
       "<style scoped>\n",
       "    .dataframe tbody tr th:only-of-type {\n",
       "        vertical-align: middle;\n",
       "    }\n",
       "\n",
       "    .dataframe tbody tr th {\n",
       "        vertical-align: top;\n",
       "    }\n",
       "\n",
       "    .dataframe thead th {\n",
       "        text-align: right;\n",
       "    }\n",
       "</style>\n",
       "<table border=\"1\" class=\"dataframe\">\n",
       "  <thead>\n",
       "    <tr style=\"text-align: right;\">\n",
       "      <th></th>\n",
       "      <th>organism</th>\n",
       "      <th>pref_name</th>\n",
       "      <th>target_chembl_id</th>\n",
       "      <th>target_type</th>\n",
       "    </tr>\n",
       "  </thead>\n",
       "  <tbody>\n",
       "    <tr>\n",
       "      <th>0</th>\n",
       "      <td>Homo sapiens</td>\n",
       "      <td>Cytochrome P450 19A1</td>\n",
       "      <td>CHEMBL1978</td>\n",
       "      <td>SINGLE PROTEIN</td>\n",
       "    </tr>\n",
       "    <tr>\n",
       "      <th>1</th>\n",
       "      <td>Homo sapiens</td>\n",
       "      <td>Cytochrome P450 19A1</td>\n",
       "      <td>CHEMBL1978</td>\n",
       "      <td>SINGLE PROTEIN</td>\n",
       "    </tr>\n",
       "  </tbody>\n",
       "</table>\n",
       "</div>"
      ],
      "text/plain": [
       "       organism             pref_name target_chembl_id     target_type\n",
       "0  Homo sapiens  Cytochrome P450 19A1       CHEMBL1978  SINGLE PROTEIN\n",
       "1  Homo sapiens  Cytochrome P450 19A1       CHEMBL1978  SINGLE PROTEIN"
      ]
     },
     "execution_count": 4,
     "metadata": {},
     "output_type": "execute_result"
    }
   ],
   "source": [
    "# Download target data from ChEMBL.\n",
    "targets = pd.DataFrame.from_records(targets)\n",
    "targets\n"
   ]
  },
  {
   "cell_type": "code",
   "execution_count": 5,
   "id": "b24c9038",
   "metadata": {},
   "outputs": [
    {
     "data": {
      "text/plain": [
       "organism                    Homo sapiens\n",
       "pref_name           Cytochrome P450 19A1\n",
       "target_chembl_id              CHEMBL1978\n",
       "target_type               SINGLE PROTEIN\n",
       "Name: 0, dtype: object"
      ]
     },
     "execution_count": 5,
     "metadata": {},
     "output_type": "execute_result"
    }
   ],
   "source": [
    "# Select target (target ChEMBL ID)\n",
    "target = targets.iloc[0]\n",
    "target"
   ]
  },
  {
   "cell_type": "code",
   "execution_count": 6,
   "id": "402e156e",
   "metadata": {},
   "outputs": [
    {
     "name": "stdout",
     "output_type": "stream",
     "text": [
      "The target ChEMBL ID is CHEMBL1978\n"
     ]
    }
   ],
   "source": [
    "#Save selected ChEMBL ID.\n",
    "chembl_id = target.target_chembl_id\n",
    "print(f\"The target ChEMBL ID is {chembl_id}\")"
   ]
  },
  {
   "cell_type": "markdown",
   "id": "1d753ee5",
   "metadata": {},
   "source": [
    "### Get bioactivity data."
   ]
  },
  {
   "cell_type": "markdown",
   "id": "73ebdf2d",
   "metadata": {},
   "source": [
    "Now, we want to query bioactivity data for the target of interest.\n",
    "Fetch bioactivity data for the target from ChEMBL.\n",
    "\n",
    "In this step, we fetch the bioactivity data and filter it to only consider\n",
    "\n",
    "    human proteins,\n",
    "    bioactivity type IC50,\n",
    "    exact measurements (relation '='), \n",
    "    binding data (assay type 'B').\n"
   ]
  },
  {
   "cell_type": "code",
   "execution_count": 7,
   "id": "a3acf403",
   "metadata": {},
   "outputs": [
    {
     "name": "stdout",
     "output_type": "stream",
     "text": [
      "Length of bioactivities object: 2376\n"
     ]
    }
   ],
   "source": [
    "bioactivities = bioactivities_api.filter(\n",
    "    target_chembl_id=chembl_id, type=\"IC50\", relation=\"=\", assay_type=\"B\"\n",
    ").only(\n",
    "    \"activity_id\",\n",
    "    \"assay_chembl_id\",\n",
    "    \"assay_description\",\n",
    "    \"assay_type\",\n",
    "    \"molecule_chembl_id\",\n",
    "    \"type\",\n",
    "    \"standard_units\",\n",
    "    \"relation\",\n",
    "    \"standard_value\",\n",
    "    \"target_chembl_id\",\n",
    "    \"target_organism\",\n",
    ")\n",
    "\n",
    "print(f\"Length of bioactivities object: {len(bioactivities)}\")\n"
   ]
  },
  {
   "cell_type": "code",
   "execution_count": 8,
   "id": "7e221020",
   "metadata": {},
   "outputs": [
    {
     "name": "stdout",
     "output_type": "stream",
     "text": [
      "DataFrame shape: (2376, 13)\n"
     ]
    },
    {
     "data": {
      "text/html": [
       "<div>\n",
       "<style scoped>\n",
       "    .dataframe tbody tr th:only-of-type {\n",
       "        vertical-align: middle;\n",
       "    }\n",
       "\n",
       "    .dataframe tbody tr th {\n",
       "        vertical-align: top;\n",
       "    }\n",
       "\n",
       "    .dataframe thead th {\n",
       "        text-align: right;\n",
       "    }\n",
       "</style>\n",
       "<table border=\"1\" class=\"dataframe\">\n",
       "  <thead>\n",
       "    <tr style=\"text-align: right;\">\n",
       "      <th></th>\n",
       "      <th>activity_id</th>\n",
       "      <th>assay_chembl_id</th>\n",
       "      <th>assay_description</th>\n",
       "      <th>assay_type</th>\n",
       "      <th>molecule_chembl_id</th>\n",
       "      <th>relation</th>\n",
       "      <th>standard_units</th>\n",
       "      <th>standard_value</th>\n",
       "      <th>target_chembl_id</th>\n",
       "      <th>target_organism</th>\n",
       "      <th>type</th>\n",
       "      <th>units</th>\n",
       "      <th>value</th>\n",
       "    </tr>\n",
       "  </thead>\n",
       "  <tbody>\n",
       "    <tr>\n",
       "      <th>0</th>\n",
       "      <td>82585</td>\n",
       "      <td>CHEMBL666794</td>\n",
       "      <td>Inhibition of Cytochrome P450 19A1</td>\n",
       "      <td>B</td>\n",
       "      <td>CHEMBL341591</td>\n",
       "      <td>=</td>\n",
       "      <td>nM</td>\n",
       "      <td>7100.0</td>\n",
       "      <td>CHEMBL1978</td>\n",
       "      <td>Homo sapiens</td>\n",
       "      <td>IC50</td>\n",
       "      <td>uM</td>\n",
       "      <td>7.1</td>\n",
       "    </tr>\n",
       "    <tr>\n",
       "      <th>1</th>\n",
       "      <td>112960</td>\n",
       "      <td>CHEMBL661700</td>\n",
       "      <td>In vitro inhibition of human Cytochrome P450 19A1</td>\n",
       "      <td>B</td>\n",
       "      <td>CHEMBL431859</td>\n",
       "      <td>=</td>\n",
       "      <td>nM</td>\n",
       "      <td>238.0</td>\n",
       "      <td>CHEMBL1978</td>\n",
       "      <td>Homo sapiens</td>\n",
       "      <td>IC50</td>\n",
       "      <td>uM</td>\n",
       "      <td>0.238</td>\n",
       "    </tr>\n",
       "    <tr>\n",
       "      <th>2</th>\n",
       "      <td>116766</td>\n",
       "      <td>CHEMBL661700</td>\n",
       "      <td>In vitro inhibition of human Cytochrome P450 19A1</td>\n",
       "      <td>B</td>\n",
       "      <td>CHEMBL113637</td>\n",
       "      <td>=</td>\n",
       "      <td>nM</td>\n",
       "      <td>57.0</td>\n",
       "      <td>CHEMBL1978</td>\n",
       "      <td>Homo sapiens</td>\n",
       "      <td>IC50</td>\n",
       "      <td>uM</td>\n",
       "      <td>0.057</td>\n",
       "    </tr>\n",
       "    <tr>\n",
       "      <th>3</th>\n",
       "      <td>118017</td>\n",
       "      <td>CHEMBL661700</td>\n",
       "      <td>In vitro inhibition of human Cytochrome P450 19A1</td>\n",
       "      <td>B</td>\n",
       "      <td>CHEMBL112021</td>\n",
       "      <td>=</td>\n",
       "      <td>nM</td>\n",
       "      <td>54.0</td>\n",
       "      <td>CHEMBL1978</td>\n",
       "      <td>Homo sapiens</td>\n",
       "      <td>IC50</td>\n",
       "      <td>uM</td>\n",
       "      <td>0.054</td>\n",
       "    </tr>\n",
       "    <tr>\n",
       "      <th>4</th>\n",
       "      <td>118020</td>\n",
       "      <td>CHEMBL661700</td>\n",
       "      <td>In vitro inhibition of human Cytochrome P450 19A1</td>\n",
       "      <td>B</td>\n",
       "      <td>CHEMBL324070</td>\n",
       "      <td>=</td>\n",
       "      <td>nM</td>\n",
       "      <td>5400.0</td>\n",
       "      <td>CHEMBL1978</td>\n",
       "      <td>Homo sapiens</td>\n",
       "      <td>IC50</td>\n",
       "      <td>uM</td>\n",
       "      <td>5.4</td>\n",
       "    </tr>\n",
       "  </tbody>\n",
       "</table>\n",
       "</div>"
      ],
      "text/plain": [
       "   activity_id assay_chembl_id  \\\n",
       "0        82585    CHEMBL666794   \n",
       "1       112960    CHEMBL661700   \n",
       "2       116766    CHEMBL661700   \n",
       "3       118017    CHEMBL661700   \n",
       "4       118020    CHEMBL661700   \n",
       "\n",
       "                                   assay_description assay_type  \\\n",
       "0                 Inhibition of Cytochrome P450 19A1          B   \n",
       "1  In vitro inhibition of human Cytochrome P450 19A1          B   \n",
       "2  In vitro inhibition of human Cytochrome P450 19A1          B   \n",
       "3  In vitro inhibition of human Cytochrome P450 19A1          B   \n",
       "4  In vitro inhibition of human Cytochrome P450 19A1          B   \n",
       "\n",
       "  molecule_chembl_id relation standard_units standard_value target_chembl_id  \\\n",
       "0       CHEMBL341591        =             nM         7100.0       CHEMBL1978   \n",
       "1       CHEMBL431859        =             nM          238.0       CHEMBL1978   \n",
       "2       CHEMBL113637        =             nM           57.0       CHEMBL1978   \n",
       "3       CHEMBL112021        =             nM           54.0       CHEMBL1978   \n",
       "4       CHEMBL324070        =             nM         5400.0       CHEMBL1978   \n",
       "\n",
       "  target_organism  type units  value  \n",
       "0    Homo sapiens  IC50    uM    7.1  \n",
       "1    Homo sapiens  IC50    uM  0.238  \n",
       "2    Homo sapiens  IC50    uM  0.057  \n",
       "3    Homo sapiens  IC50    uM  0.054  \n",
       "4    Homo sapiens  IC50    uM    5.4  "
      ]
     },
     "execution_count": 8,
     "metadata": {},
     "output_type": "execute_result"
    }
   ],
   "source": [
    "bioactivities_df = pd.DataFrame.from_dict(bioactivities)\n",
    "print(f\"DataFrame shape: {bioactivities_df.shape}\")\n",
    "bioactivities_df.head()\n"
   ]
  },
  {
   "cell_type": "code",
   "execution_count": 9,
   "id": "de346fa1",
   "metadata": {},
   "outputs": [
    {
     "data": {
      "text/html": [
       "<div>\n",
       "<style scoped>\n",
       "    .dataframe tbody tr th:only-of-type {\n",
       "        vertical-align: middle;\n",
       "    }\n",
       "\n",
       "    .dataframe tbody tr th {\n",
       "        vertical-align: top;\n",
       "    }\n",
       "\n",
       "    .dataframe thead th {\n",
       "        text-align: right;\n",
       "    }\n",
       "</style>\n",
       "<table border=\"1\" class=\"dataframe\">\n",
       "  <thead>\n",
       "    <tr style=\"text-align: right;\">\n",
       "      <th></th>\n",
       "      <th>activity_id</th>\n",
       "      <th>assay_chembl_id</th>\n",
       "      <th>assay_description</th>\n",
       "      <th>assay_type</th>\n",
       "      <th>molecule_chembl_id</th>\n",
       "      <th>relation</th>\n",
       "      <th>standard_units</th>\n",
       "      <th>standard_value</th>\n",
       "      <th>target_chembl_id</th>\n",
       "      <th>target_organism</th>\n",
       "      <th>type</th>\n",
       "    </tr>\n",
       "  </thead>\n",
       "  <tbody>\n",
       "    <tr>\n",
       "      <th>0</th>\n",
       "      <td>82585</td>\n",
       "      <td>CHEMBL666794</td>\n",
       "      <td>Inhibition of Cytochrome P450 19A1</td>\n",
       "      <td>B</td>\n",
       "      <td>CHEMBL341591</td>\n",
       "      <td>=</td>\n",
       "      <td>nM</td>\n",
       "      <td>7100.0</td>\n",
       "      <td>CHEMBL1978</td>\n",
       "      <td>Homo sapiens</td>\n",
       "      <td>IC50</td>\n",
       "    </tr>\n",
       "    <tr>\n",
       "      <th>1</th>\n",
       "      <td>112960</td>\n",
       "      <td>CHEMBL661700</td>\n",
       "      <td>In vitro inhibition of human Cytochrome P450 19A1</td>\n",
       "      <td>B</td>\n",
       "      <td>CHEMBL431859</td>\n",
       "      <td>=</td>\n",
       "      <td>nM</td>\n",
       "      <td>238.0</td>\n",
       "      <td>CHEMBL1978</td>\n",
       "      <td>Homo sapiens</td>\n",
       "      <td>IC50</td>\n",
       "    </tr>\n",
       "    <tr>\n",
       "      <th>2</th>\n",
       "      <td>116766</td>\n",
       "      <td>CHEMBL661700</td>\n",
       "      <td>In vitro inhibition of human Cytochrome P450 19A1</td>\n",
       "      <td>B</td>\n",
       "      <td>CHEMBL113637</td>\n",
       "      <td>=</td>\n",
       "      <td>nM</td>\n",
       "      <td>57.0</td>\n",
       "      <td>CHEMBL1978</td>\n",
       "      <td>Homo sapiens</td>\n",
       "      <td>IC50</td>\n",
       "    </tr>\n",
       "    <tr>\n",
       "      <th>3</th>\n",
       "      <td>118017</td>\n",
       "      <td>CHEMBL661700</td>\n",
       "      <td>In vitro inhibition of human Cytochrome P450 19A1</td>\n",
       "      <td>B</td>\n",
       "      <td>CHEMBL112021</td>\n",
       "      <td>=</td>\n",
       "      <td>nM</td>\n",
       "      <td>54.0</td>\n",
       "      <td>CHEMBL1978</td>\n",
       "      <td>Homo sapiens</td>\n",
       "      <td>IC50</td>\n",
       "    </tr>\n",
       "    <tr>\n",
       "      <th>4</th>\n",
       "      <td>118020</td>\n",
       "      <td>CHEMBL661700</td>\n",
       "      <td>In vitro inhibition of human Cytochrome P450 19A1</td>\n",
       "      <td>B</td>\n",
       "      <td>CHEMBL324070</td>\n",
       "      <td>=</td>\n",
       "      <td>nM</td>\n",
       "      <td>5400.0</td>\n",
       "      <td>CHEMBL1978</td>\n",
       "      <td>Homo sapiens</td>\n",
       "      <td>IC50</td>\n",
       "    </tr>\n",
       "  </tbody>\n",
       "</table>\n",
       "</div>"
      ],
      "text/plain": [
       "   activity_id assay_chembl_id  \\\n",
       "0        82585    CHEMBL666794   \n",
       "1       112960    CHEMBL661700   \n",
       "2       116766    CHEMBL661700   \n",
       "3       118017    CHEMBL661700   \n",
       "4       118020    CHEMBL661700   \n",
       "\n",
       "                                   assay_description assay_type  \\\n",
       "0                 Inhibition of Cytochrome P450 19A1          B   \n",
       "1  In vitro inhibition of human Cytochrome P450 19A1          B   \n",
       "2  In vitro inhibition of human Cytochrome P450 19A1          B   \n",
       "3  In vitro inhibition of human Cytochrome P450 19A1          B   \n",
       "4  In vitro inhibition of human Cytochrome P450 19A1          B   \n",
       "\n",
       "  molecule_chembl_id relation standard_units standard_value target_chembl_id  \\\n",
       "0       CHEMBL341591        =             nM         7100.0       CHEMBL1978   \n",
       "1       CHEMBL431859        =             nM          238.0       CHEMBL1978   \n",
       "2       CHEMBL113637        =             nM           57.0       CHEMBL1978   \n",
       "3       CHEMBL112021        =             nM           54.0       CHEMBL1978   \n",
       "4       CHEMBL324070        =             nM         5400.0       CHEMBL1978   \n",
       "\n",
       "  target_organism  type  \n",
       "0    Homo sapiens  IC50  \n",
       "1    Homo sapiens  IC50  \n",
       "2    Homo sapiens  IC50  \n",
       "3    Homo sapiens  IC50  \n",
       "4    Homo sapiens  IC50  "
      ]
     },
     "execution_count": 9,
     "metadata": {},
     "output_type": "execute_result"
    }
   ],
   "source": [
    "bioactivities_df.drop([\"units\", \"value\"], axis=1, inplace=True)\n",
    "bioactivities_df.head()"
   ]
  },
  {
   "cell_type": "markdown",
   "id": "232263c3",
   "metadata": {},
   "source": [
    "Preprocess and filter bioactivity data."
   ]
  },
  {
   "cell_type": "code",
   "execution_count": 10,
   "id": "e894c61f",
   "metadata": {},
   "outputs": [],
   "source": [
    "# 1. Convert datatype of “standard_value” from “object” to “float”."
   ]
  },
  {
   "cell_type": "code",
   "execution_count": 11,
   "id": "22183888",
   "metadata": {},
   "outputs": [
    {
     "data": {
      "text/plain": [
       "activity_id            int64\n",
       "assay_chembl_id       object\n",
       "assay_description     object\n",
       "assay_type            object\n",
       "molecule_chembl_id    object\n",
       "relation              object\n",
       "standard_units        object\n",
       "standard_value        object\n",
       "target_chembl_id      object\n",
       "target_organism       object\n",
       "type                  object\n",
       "dtype: object"
      ]
     },
     "execution_count": 11,
     "metadata": {},
     "output_type": "execute_result"
    }
   ],
   "source": [
    "bioactivities_df.dtypes"
   ]
  },
  {
   "cell_type": "code",
   "execution_count": 12,
   "id": "eb193598",
   "metadata": {},
   "outputs": [
    {
     "data": {
      "text/plain": [
       "activity_id             int64\n",
       "assay_chembl_id        object\n",
       "assay_description      object\n",
       "assay_type             object\n",
       "molecule_chembl_id     object\n",
       "relation               object\n",
       "standard_units         object\n",
       "standard_value        float64\n",
       "target_chembl_id       object\n",
       "target_organism        object\n",
       "type                   object\n",
       "dtype: object"
      ]
     },
     "execution_count": 12,
     "metadata": {},
     "output_type": "execute_result"
    }
   ],
   "source": [
    "bioactivities_df = bioactivities_df.astype({\"standard_value\": \"float64\"})\n",
    "bioactivities_df.dtypes\n"
   ]
  },
  {
   "cell_type": "code",
   "execution_count": 13,
   "id": "d79c384b",
   "metadata": {},
   "outputs": [
    {
     "name": "stdout",
     "output_type": "stream",
     "text": [
      "DataFrame shape: (2376, 11)\n"
     ]
    }
   ],
   "source": [
    "# 2. Delete entries with missing values.\n",
    "bioactivities_df.dropna(axis=0, how=\"any\", inplace=True)\n",
    "print(f\"DataFrame shape: {bioactivities_df.shape}\")"
   ]
  },
  {
   "cell_type": "code",
   "execution_count": 14,
   "id": "9e5dc6aa",
   "metadata": {},
   "outputs": [
    {
     "name": "stdout",
     "output_type": "stream",
     "text": [
      "Units after filtering: ['nM']\n"
     ]
    }
   ],
   "source": [
    "#3. Keep only entries with “standard_unit == nM”.\n",
    "bioactivities_df = bioactivities_df[bioactivities_df[\"standard_units\"] == \"nM\"]\n",
    "print(f\"Units after filtering: {bioactivities_df['standard_units'].unique()}\")"
   ]
  },
  {
   "cell_type": "code",
   "execution_count": 15,
   "id": "1dd98622",
   "metadata": {},
   "outputs": [
    {
     "name": "stdout",
     "output_type": "stream",
     "text": [
      "DataFrame shape: (1799, 11)\n"
     ]
    }
   ],
   "source": [
    "# 4. Delete duplicate molecules.\n",
    "bioactivities_df.drop_duplicates(\"molecule_chembl_id\", keep=\"first\", inplace=True)\n",
    "print(f\"DataFrame shape: {bioactivities_df.shape}\")"
   ]
  },
  {
   "cell_type": "code",
   "execution_count": 16,
   "id": "53a3fdc6",
   "metadata": {},
   "outputs": [
    {
     "data": {
      "text/html": [
       "<div>\n",
       "<style scoped>\n",
       "    .dataframe tbody tr th:only-of-type {\n",
       "        vertical-align: middle;\n",
       "    }\n",
       "\n",
       "    .dataframe tbody tr th {\n",
       "        vertical-align: top;\n",
       "    }\n",
       "\n",
       "    .dataframe thead th {\n",
       "        text-align: right;\n",
       "    }\n",
       "</style>\n",
       "<table border=\"1\" class=\"dataframe\">\n",
       "  <thead>\n",
       "    <tr style=\"text-align: right;\">\n",
       "      <th></th>\n",
       "      <th>activity_id</th>\n",
       "      <th>assay_chembl_id</th>\n",
       "      <th>assay_description</th>\n",
       "      <th>assay_type</th>\n",
       "      <th>molecule_chembl_id</th>\n",
       "      <th>relation</th>\n",
       "      <th>standard_units</th>\n",
       "      <th>standard_value</th>\n",
       "      <th>target_chembl_id</th>\n",
       "      <th>target_organism</th>\n",
       "      <th>type</th>\n",
       "    </tr>\n",
       "  </thead>\n",
       "  <tbody>\n",
       "    <tr>\n",
       "      <th>0</th>\n",
       "      <td>82585</td>\n",
       "      <td>CHEMBL666794</td>\n",
       "      <td>Inhibition of Cytochrome P450 19A1</td>\n",
       "      <td>B</td>\n",
       "      <td>CHEMBL341591</td>\n",
       "      <td>=</td>\n",
       "      <td>nM</td>\n",
       "      <td>7100.0</td>\n",
       "      <td>CHEMBL1978</td>\n",
       "      <td>Homo sapiens</td>\n",
       "      <td>IC50</td>\n",
       "    </tr>\n",
       "    <tr>\n",
       "      <th>1</th>\n",
       "      <td>112960</td>\n",
       "      <td>CHEMBL661700</td>\n",
       "      <td>In vitro inhibition of human Cytochrome P450 19A1</td>\n",
       "      <td>B</td>\n",
       "      <td>CHEMBL431859</td>\n",
       "      <td>=</td>\n",
       "      <td>nM</td>\n",
       "      <td>238.0</td>\n",
       "      <td>CHEMBL1978</td>\n",
       "      <td>Homo sapiens</td>\n",
       "      <td>IC50</td>\n",
       "    </tr>\n",
       "    <tr>\n",
       "      <th>2</th>\n",
       "      <td>116766</td>\n",
       "      <td>CHEMBL661700</td>\n",
       "      <td>In vitro inhibition of human Cytochrome P450 19A1</td>\n",
       "      <td>B</td>\n",
       "      <td>CHEMBL113637</td>\n",
       "      <td>=</td>\n",
       "      <td>nM</td>\n",
       "      <td>57.0</td>\n",
       "      <td>CHEMBL1978</td>\n",
       "      <td>Homo sapiens</td>\n",
       "      <td>IC50</td>\n",
       "    </tr>\n",
       "    <tr>\n",
       "      <th>3</th>\n",
       "      <td>118017</td>\n",
       "      <td>CHEMBL661700</td>\n",
       "      <td>In vitro inhibition of human Cytochrome P450 19A1</td>\n",
       "      <td>B</td>\n",
       "      <td>CHEMBL112021</td>\n",
       "      <td>=</td>\n",
       "      <td>nM</td>\n",
       "      <td>54.0</td>\n",
       "      <td>CHEMBL1978</td>\n",
       "      <td>Homo sapiens</td>\n",
       "      <td>IC50</td>\n",
       "    </tr>\n",
       "    <tr>\n",
       "      <th>4</th>\n",
       "      <td>118020</td>\n",
       "      <td>CHEMBL661700</td>\n",
       "      <td>In vitro inhibition of human Cytochrome P450 19A1</td>\n",
       "      <td>B</td>\n",
       "      <td>CHEMBL324070</td>\n",
       "      <td>=</td>\n",
       "      <td>nM</td>\n",
       "      <td>5400.0</td>\n",
       "      <td>CHEMBL1978</td>\n",
       "      <td>Homo sapiens</td>\n",
       "      <td>IC50</td>\n",
       "    </tr>\n",
       "  </tbody>\n",
       "</table>\n",
       "</div>"
      ],
      "text/plain": [
       "   activity_id assay_chembl_id  \\\n",
       "0        82585    CHEMBL666794   \n",
       "1       112960    CHEMBL661700   \n",
       "2       116766    CHEMBL661700   \n",
       "3       118017    CHEMBL661700   \n",
       "4       118020    CHEMBL661700   \n",
       "\n",
       "                                   assay_description assay_type  \\\n",
       "0                 Inhibition of Cytochrome P450 19A1          B   \n",
       "1  In vitro inhibition of human Cytochrome P450 19A1          B   \n",
       "2  In vitro inhibition of human Cytochrome P450 19A1          B   \n",
       "3  In vitro inhibition of human Cytochrome P450 19A1          B   \n",
       "4  In vitro inhibition of human Cytochrome P450 19A1          B   \n",
       "\n",
       "  molecule_chembl_id relation standard_units  standard_value target_chembl_id  \\\n",
       "0       CHEMBL341591        =             nM          7100.0       CHEMBL1978   \n",
       "1       CHEMBL431859        =             nM           238.0       CHEMBL1978   \n",
       "2       CHEMBL113637        =             nM            57.0       CHEMBL1978   \n",
       "3       CHEMBL112021        =             nM            54.0       CHEMBL1978   \n",
       "4       CHEMBL324070        =             nM          5400.0       CHEMBL1978   \n",
       "\n",
       "  target_organism  type  \n",
       "0    Homo sapiens  IC50  \n",
       "1    Homo sapiens  IC50  \n",
       "2    Homo sapiens  IC50  \n",
       "3    Homo sapiens  IC50  \n",
       "4    Homo sapiens  IC50  "
      ]
     },
     "execution_count": 16,
     "metadata": {},
     "output_type": "execute_result"
    }
   ],
   "source": [
    "# 5. Reset “DataFrame” index.\n",
    "bioactivities_df.reset_index(drop=True, inplace=True)\n",
    "bioactivities_df.head()"
   ]
  },
  {
   "cell_type": "code",
   "execution_count": 17,
   "id": "07bbaa85",
   "metadata": {},
   "outputs": [
    {
     "data": {
      "text/html": [
       "<div>\n",
       "<style scoped>\n",
       "    .dataframe tbody tr th:only-of-type {\n",
       "        vertical-align: middle;\n",
       "    }\n",
       "\n",
       "    .dataframe tbody tr th {\n",
       "        vertical-align: top;\n",
       "    }\n",
       "\n",
       "    .dataframe thead th {\n",
       "        text-align: right;\n",
       "    }\n",
       "</style>\n",
       "<table border=\"1\" class=\"dataframe\">\n",
       "  <thead>\n",
       "    <tr style=\"text-align: right;\">\n",
       "      <th></th>\n",
       "      <th>activity_id</th>\n",
       "      <th>assay_chembl_id</th>\n",
       "      <th>assay_description</th>\n",
       "      <th>assay_type</th>\n",
       "      <th>molecule_chembl_id</th>\n",
       "      <th>relation</th>\n",
       "      <th>units</th>\n",
       "      <th>IC50</th>\n",
       "      <th>target_chembl_id</th>\n",
       "      <th>target_organism</th>\n",
       "      <th>type</th>\n",
       "    </tr>\n",
       "  </thead>\n",
       "  <tbody>\n",
       "    <tr>\n",
       "      <th>0</th>\n",
       "      <td>82585</td>\n",
       "      <td>CHEMBL666794</td>\n",
       "      <td>Inhibition of Cytochrome P450 19A1</td>\n",
       "      <td>B</td>\n",
       "      <td>CHEMBL341591</td>\n",
       "      <td>=</td>\n",
       "      <td>nM</td>\n",
       "      <td>7100.0</td>\n",
       "      <td>CHEMBL1978</td>\n",
       "      <td>Homo sapiens</td>\n",
       "      <td>IC50</td>\n",
       "    </tr>\n",
       "    <tr>\n",
       "      <th>1</th>\n",
       "      <td>112960</td>\n",
       "      <td>CHEMBL661700</td>\n",
       "      <td>In vitro inhibition of human Cytochrome P450 19A1</td>\n",
       "      <td>B</td>\n",
       "      <td>CHEMBL431859</td>\n",
       "      <td>=</td>\n",
       "      <td>nM</td>\n",
       "      <td>238.0</td>\n",
       "      <td>CHEMBL1978</td>\n",
       "      <td>Homo sapiens</td>\n",
       "      <td>IC50</td>\n",
       "    </tr>\n",
       "    <tr>\n",
       "      <th>2</th>\n",
       "      <td>116766</td>\n",
       "      <td>CHEMBL661700</td>\n",
       "      <td>In vitro inhibition of human Cytochrome P450 19A1</td>\n",
       "      <td>B</td>\n",
       "      <td>CHEMBL113637</td>\n",
       "      <td>=</td>\n",
       "      <td>nM</td>\n",
       "      <td>57.0</td>\n",
       "      <td>CHEMBL1978</td>\n",
       "      <td>Homo sapiens</td>\n",
       "      <td>IC50</td>\n",
       "    </tr>\n",
       "    <tr>\n",
       "      <th>3</th>\n",
       "      <td>118017</td>\n",
       "      <td>CHEMBL661700</td>\n",
       "      <td>In vitro inhibition of human Cytochrome P450 19A1</td>\n",
       "      <td>B</td>\n",
       "      <td>CHEMBL112021</td>\n",
       "      <td>=</td>\n",
       "      <td>nM</td>\n",
       "      <td>54.0</td>\n",
       "      <td>CHEMBL1978</td>\n",
       "      <td>Homo sapiens</td>\n",
       "      <td>IC50</td>\n",
       "    </tr>\n",
       "    <tr>\n",
       "      <th>4</th>\n",
       "      <td>118020</td>\n",
       "      <td>CHEMBL661700</td>\n",
       "      <td>In vitro inhibition of human Cytochrome P450 19A1</td>\n",
       "      <td>B</td>\n",
       "      <td>CHEMBL324070</td>\n",
       "      <td>=</td>\n",
       "      <td>nM</td>\n",
       "      <td>5400.0</td>\n",
       "      <td>CHEMBL1978</td>\n",
       "      <td>Homo sapiens</td>\n",
       "      <td>IC50</td>\n",
       "    </tr>\n",
       "  </tbody>\n",
       "</table>\n",
       "</div>"
      ],
      "text/plain": [
       "   activity_id assay_chembl_id  \\\n",
       "0        82585    CHEMBL666794   \n",
       "1       112960    CHEMBL661700   \n",
       "2       116766    CHEMBL661700   \n",
       "3       118017    CHEMBL661700   \n",
       "4       118020    CHEMBL661700   \n",
       "\n",
       "                                   assay_description assay_type  \\\n",
       "0                 Inhibition of Cytochrome P450 19A1          B   \n",
       "1  In vitro inhibition of human Cytochrome P450 19A1          B   \n",
       "2  In vitro inhibition of human Cytochrome P450 19A1          B   \n",
       "3  In vitro inhibition of human Cytochrome P450 19A1          B   \n",
       "4  In vitro inhibition of human Cytochrome P450 19A1          B   \n",
       "\n",
       "  molecule_chembl_id relation units    IC50 target_chembl_id target_organism  \\\n",
       "0       CHEMBL341591        =    nM  7100.0       CHEMBL1978    Homo sapiens   \n",
       "1       CHEMBL431859        =    nM   238.0       CHEMBL1978    Homo sapiens   \n",
       "2       CHEMBL113637        =    nM    57.0       CHEMBL1978    Homo sapiens   \n",
       "3       CHEMBL112021        =    nM    54.0       CHEMBL1978    Homo sapiens   \n",
       "4       CHEMBL324070        =    nM  5400.0       CHEMBL1978    Homo sapiens   \n",
       "\n",
       "   type  \n",
       "0  IC50  \n",
       "1  IC50  \n",
       "2  IC50  \n",
       "3  IC50  \n",
       "4  IC50  "
      ]
     },
     "execution_count": 17,
     "metadata": {},
     "output_type": "execute_result"
    }
   ],
   "source": [
    "# 6. Rename columns.\n",
    "bioactivities_df.rename(\n",
    "    columns={\"standard_value\": \"IC50\", \"standard_units\": \"units\"}, inplace=True)\n",
    "\n",
    "bioactivities_df.head()"
   ]
  },
  {
   "cell_type": "markdown",
   "id": "80112b1c",
   "metadata": {},
   "source": [
    "### Get compound data."
   ]
  },
  {
   "cell_type": "markdown",
   "id": "076cb64d",
   "metadata": {},
   "source": [
    "We have a DataFrame containing all molecules tested measured bioactivity.\n",
    "\n",
    "Now, we want to get the molecular structures of the molecules that are linked to respective bioactivity ChEMBL IDs.\n",
    "\n",
    "fetch compound ChEMBL IDs and structures for the compounds linked to our filtered bioactivity data."
   ]
  },
  {
   "cell_type": "code",
   "execution_count": 18,
   "id": "070a144c",
   "metadata": {},
   "outputs": [],
   "source": [
    "compounds_provider = compounds_api.filter(\n",
    "    molecule_chembl_id__in=list(bioactivities_df[\"molecule_chembl_id\"])\n",
    ").only(\"molecule_chembl_id\", \"molecule_structures\")\n"
   ]
  },
  {
   "cell_type": "code",
   "execution_count": 19,
   "id": "d366d90a",
   "metadata": {},
   "outputs": [
    {
     "data": {
      "application/vnd.jupyter.widget-view+json": {
       "model_id": "1405586e0911445db15f47b353d253ea",
       "version_major": 2,
       "version_minor": 0
      },
      "text/plain": [
       "  0%|          | 0/1799 [00:00<?, ?it/s]"
      ]
     },
     "metadata": {},
     "output_type": "display_data"
    },
    {
     "name": "stdout",
     "output_type": "stream",
     "text": [
      "DataFrame shape: (1799, 2)\n"
     ]
    }
   ],
   "source": [
    "# Download compound data from ChEMBL.\n",
    "compounds = list(tqdm(compounds_provider))\n",
    "\n",
    "compounds_df = pd.DataFrame.from_records(\n",
    "    compounds,\n",
    ")\n",
    "print(f\"DataFrame shape: {compounds_df.shape}\")\n"
   ]
  },
  {
   "cell_type": "code",
   "execution_count": 20,
   "id": "bbbbca4f",
   "metadata": {},
   "outputs": [
    {
     "data": {
      "text/html": [
       "<div>\n",
       "<style scoped>\n",
       "    .dataframe tbody tr th:only-of-type {\n",
       "        vertical-align: middle;\n",
       "    }\n",
       "\n",
       "    .dataframe tbody tr th {\n",
       "        vertical-align: top;\n",
       "    }\n",
       "\n",
       "    .dataframe thead th {\n",
       "        text-align: right;\n",
       "    }\n",
       "</style>\n",
       "<table border=\"1\" class=\"dataframe\">\n",
       "  <thead>\n",
       "    <tr style=\"text-align: right;\">\n",
       "      <th></th>\n",
       "      <th>molecule_chembl_id</th>\n",
       "      <th>molecule_structures</th>\n",
       "    </tr>\n",
       "  </thead>\n",
       "  <tbody>\n",
       "    <tr>\n",
       "      <th>0</th>\n",
       "      <td>CHEMBL28</td>\n",
       "      <td>{'canonical_smiles': 'O=c1cc(-c2ccc(O)cc2)oc2c...</td>\n",
       "    </tr>\n",
       "    <tr>\n",
       "      <th>1</th>\n",
       "      <td>CHEMBL7162</td>\n",
       "      <td>{'canonical_smiles': 'CS(=O)(=O)Nc1ccc([N+](=O...</td>\n",
       "    </tr>\n",
       "    <tr>\n",
       "      <th>2</th>\n",
       "      <td>CHEMBL268918</td>\n",
       "      <td>{'canonical_smiles': 'CCCCCCC[C@@H]1CC2C(CCC3(...</td>\n",
       "    </tr>\n",
       "    <tr>\n",
       "      <th>3</th>\n",
       "      <td>CHEMBL50</td>\n",
       "      <td>{'canonical_smiles': 'O=c1c(O)c(-c2ccc(O)c(O)c...</td>\n",
       "    </tr>\n",
       "    <tr>\n",
       "      <th>4</th>\n",
       "      <td>CHEMBL8333</td>\n",
       "      <td>{'canonical_smiles': 'CCC[C@H]1CC2C(CCC3(C)C(=...</td>\n",
       "    </tr>\n",
       "    <tr>\n",
       "      <th>...</th>\n",
       "      <td>...</td>\n",
       "      <td>...</td>\n",
       "    </tr>\n",
       "    <tr>\n",
       "      <th>1794</th>\n",
       "      <td>CHEMBL5195433</td>\n",
       "      <td>{'canonical_smiles': 'Cc1c(-c2nocc2C(=O)SC#N)c...</td>\n",
       "    </tr>\n",
       "    <tr>\n",
       "      <th>1795</th>\n",
       "      <td>CHEMBL5197552</td>\n",
       "      <td>{'canonical_smiles': 'C#CCOc1ccc2cc(C(c3ccc(Cl...</td>\n",
       "    </tr>\n",
       "    <tr>\n",
       "      <th>1796</th>\n",
       "      <td>CHEMBL5203413</td>\n",
       "      <td>{'canonical_smiles': 'CC#CCOc1ccc2cc(C(c3ccc(C...</td>\n",
       "    </tr>\n",
       "    <tr>\n",
       "      <th>1797</th>\n",
       "      <td>CHEMBL5204674</td>\n",
       "      <td>{'canonical_smiles': 'CCC#CCOc1ccc2oc(C(c3ccc(...</td>\n",
       "    </tr>\n",
       "    <tr>\n",
       "      <th>1798</th>\n",
       "      <td>CHEMBL5205534</td>\n",
       "      <td>{'canonical_smiles': 'CCC#CCOc1ccc2cc(C(c3ccc(...</td>\n",
       "    </tr>\n",
       "  </tbody>\n",
       "</table>\n",
       "<p>1799 rows × 2 columns</p>\n",
       "</div>"
      ],
      "text/plain": [
       "     molecule_chembl_id                                molecule_structures\n",
       "0              CHEMBL28  {'canonical_smiles': 'O=c1cc(-c2ccc(O)cc2)oc2c...\n",
       "1            CHEMBL7162  {'canonical_smiles': 'CS(=O)(=O)Nc1ccc([N+](=O...\n",
       "2          CHEMBL268918  {'canonical_smiles': 'CCCCCCC[C@@H]1CC2C(CCC3(...\n",
       "3              CHEMBL50  {'canonical_smiles': 'O=c1c(O)c(-c2ccc(O)c(O)c...\n",
       "4            CHEMBL8333  {'canonical_smiles': 'CCC[C@H]1CC2C(CCC3(C)C(=...\n",
       "...                 ...                                                ...\n",
       "1794      CHEMBL5195433  {'canonical_smiles': 'Cc1c(-c2nocc2C(=O)SC#N)c...\n",
       "1795      CHEMBL5197552  {'canonical_smiles': 'C#CCOc1ccc2cc(C(c3ccc(Cl...\n",
       "1796      CHEMBL5203413  {'canonical_smiles': 'CC#CCOc1ccc2cc(C(c3ccc(C...\n",
       "1797      CHEMBL5204674  {'canonical_smiles': 'CCC#CCOc1ccc2oc(C(c3ccc(...\n",
       "1798      CHEMBL5205534  {'canonical_smiles': 'CCC#CCOc1ccc2cc(C(c3ccc(...\n",
       "\n",
       "[1799 rows x 2 columns]"
      ]
     },
     "execution_count": 20,
     "metadata": {},
     "output_type": "execute_result"
    }
   ],
   "source": [
    "compounds_df"
   ]
  },
  {
   "cell_type": "markdown",
   "id": "b423cedd",
   "metadata": {},
   "source": [
    "### Preprocess and filter compound data."
   ]
  },
  {
   "cell_type": "code",
   "execution_count": 21,
   "id": "34ca76fd",
   "metadata": {},
   "outputs": [
    {
     "name": "stdout",
     "output_type": "stream",
     "text": [
      "DataFrame shape: (1799, 2)\n"
     ]
    }
   ],
   "source": [
    "# 1. Remove entries with missing molecule structure entry.\n",
    "\n",
    "compounds_df.dropna(axis=0, how=\"any\", inplace=True)\n",
    "print(f\"DataFrame shape: {compounds_df.shape}\")"
   ]
  },
  {
   "cell_type": "code",
   "execution_count": 22,
   "id": "f5f59e64",
   "metadata": {},
   "outputs": [
    {
     "name": "stdout",
     "output_type": "stream",
     "text": [
      "DataFrame shape: (1799, 2)\n"
     ]
    }
   ],
   "source": [
    "# 2. Delete duplicate molecules.\n",
    "\n",
    "compounds_df.drop_duplicates(\"molecule_chembl_id\", keep=\"first\", inplace=True)\n",
    "print(f\"DataFrame shape: {compounds_df.shape}\")"
   ]
  },
  {
   "cell_type": "code",
   "execution_count": 23,
   "id": "18bf07f4",
   "metadata": {},
   "outputs": [
    {
     "name": "stdout",
     "output_type": "stream",
     "text": [
      "DataFrame shape: (1799, 2)\n"
     ]
    }
   ],
   "source": [
    "# 3. Get molecules with canonical SMILES.\n",
    "\n",
    "canonical_smiles = []\n",
    "\n",
    "for i, compounds in compounds_df.iterrows():\n",
    "    try:\n",
    "        canonical_smiles.append(compounds[\"molecule_structures\"][\"canonical_smiles\"])\n",
    "    except KeyError:\n",
    "        canonical_smiles.append(None)\n",
    "\n",
    "compounds_df[\"smiles\"] = canonical_smiles\n",
    "compounds_df.drop(\"molecule_structures\", axis=1, inplace=True)\n",
    "print(f\"DataFrame shape: {compounds_df.shape}\")"
   ]
  },
  {
   "cell_type": "code",
   "execution_count": 24,
   "id": "00810e61",
   "metadata": {},
   "outputs": [
    {
     "name": "stdout",
     "output_type": "stream",
     "text": [
      "DataFrame shape: (1799, 2)\n"
     ]
    }
   ],
   "source": [
    "# 4. Sanity check: Remove all molecules without a canonical SMILES string.\n",
    "\n",
    "compounds_df.dropna(axis=0, how=\"any\", inplace=True)\n",
    "print(f\"DataFrame shape: {compounds_df.shape}\")"
   ]
  },
  {
   "cell_type": "code",
   "execution_count": 25,
   "id": "c0cbb759",
   "metadata": {},
   "outputs": [
    {
     "name": "stdout",
     "output_type": "stream",
     "text": [
      "Dataset with 1799 entries.\n"
     ]
    }
   ],
   "source": [
    "# Merge both datasets, compound and bioactivity data.\n",
    "    \n",
    "# Merge DataFrames\n",
    "output_df = pd.merge(\n",
    "    bioactivities_df[[\"molecule_chembl_id\", \"IC50\", \"units\"]],\n",
    "    compounds_df,\n",
    "    on=\"molecule_chembl_id\",\n",
    ")\n",
    "\n",
    "# Reset row indices\n",
    "output_df.reset_index(drop=True, inplace=True)\n",
    "\n",
    "print(f\"Dataset with {output_df.shape[0]} entries.\")\n",
    "\n"
   ]
  },
  {
   "cell_type": "code",
   "execution_count": 26,
   "id": "c25a1f3f",
   "metadata": {},
   "outputs": [
    {
     "data": {
      "text/html": [
       "<div>\n",
       "<style scoped>\n",
       "    .dataframe tbody tr th:only-of-type {\n",
       "        vertical-align: middle;\n",
       "    }\n",
       "\n",
       "    .dataframe tbody tr th {\n",
       "        vertical-align: top;\n",
       "    }\n",
       "\n",
       "    .dataframe thead th {\n",
       "        text-align: right;\n",
       "    }\n",
       "</style>\n",
       "<table border=\"1\" class=\"dataframe\">\n",
       "  <thead>\n",
       "    <tr style=\"text-align: right;\">\n",
       "      <th></th>\n",
       "      <th>molecule_chembl_id</th>\n",
       "      <th>IC50</th>\n",
       "      <th>units</th>\n",
       "      <th>smiles</th>\n",
       "    </tr>\n",
       "  </thead>\n",
       "  <tbody>\n",
       "    <tr>\n",
       "      <th>0</th>\n",
       "      <td>CHEMBL341591</td>\n",
       "      <td>7100.0</td>\n",
       "      <td>nM</td>\n",
       "      <td>CC12CCC(O)CC1=CCC1C2CCC2(C)C(CC3CN3)CCC12</td>\n",
       "    </tr>\n",
       "    <tr>\n",
       "      <th>1</th>\n",
       "      <td>CHEMBL431859</td>\n",
       "      <td>238.0</td>\n",
       "      <td>nM</td>\n",
       "      <td>CCn1c(C(c2ccc(F)cc2)n2ccnc2)c(C)c2cc(Br)ccc21</td>\n",
       "    </tr>\n",
       "  </tbody>\n",
       "</table>\n",
       "</div>"
      ],
      "text/plain": [
       "  molecule_chembl_id    IC50 units  \\\n",
       "0       CHEMBL341591  7100.0    nM   \n",
       "1       CHEMBL431859   238.0    nM   \n",
       "\n",
       "                                          smiles  \n",
       "0      CC12CCC(O)CC1=CCC1C2CCC2(C)C(CC3CN3)CCC12  \n",
       "1  CCn1c(C(c2ccc(F)cc2)n2ccnc2)c(C)c2cc(Br)ccc21  "
      ]
     },
     "execution_count": 26,
     "metadata": {},
     "output_type": "execute_result"
    }
   ],
   "source": [
    "output_df.head(2)"
   ]
  },
  {
   "cell_type": "code",
   "execution_count": 27,
   "id": "c5cdd2a5",
   "metadata": {},
   "outputs": [
    {
     "data": {
      "text/plain": [
       "(1798, 4)"
      ]
     },
     "execution_count": 27,
     "metadata": {},
     "output_type": "execute_result"
    }
   ],
   "source": [
    "output_df = output_df[output_df.IC50 != 0]\n",
    "output_df.shape"
   ]
  },
  {
   "cell_type": "code",
   "execution_count": 28,
   "id": "ff454bf5",
   "metadata": {},
   "outputs": [
    {
     "data": {
      "text/html": [
       "<div>\n",
       "<style scoped>\n",
       "    .dataframe tbody tr th:only-of-type {\n",
       "        vertical-align: middle;\n",
       "    }\n",
       "\n",
       "    .dataframe tbody tr th {\n",
       "        vertical-align: top;\n",
       "    }\n",
       "\n",
       "    .dataframe thead th {\n",
       "        text-align: right;\n",
       "    }\n",
       "</style>\n",
       "<table border=\"1\" class=\"dataframe\">\n",
       "  <thead>\n",
       "    <tr style=\"text-align: right;\">\n",
       "      <th></th>\n",
       "      <th>molecule_chembl_id</th>\n",
       "      <th>IC50</th>\n",
       "      <th>units</th>\n",
       "      <th>smiles</th>\n",
       "      <th>PIC50</th>\n",
       "    </tr>\n",
       "  </thead>\n",
       "  <tbody>\n",
       "    <tr>\n",
       "      <th>0</th>\n",
       "      <td>CHEMBL341591</td>\n",
       "      <td>7100.0</td>\n",
       "      <td>nM</td>\n",
       "      <td>CC12CCC(O)CC1=CCC1C2CCC2(C)C(CC3CN3)CCC12</td>\n",
       "      <td>5.148742</td>\n",
       "    </tr>\n",
       "    <tr>\n",
       "      <th>1</th>\n",
       "      <td>CHEMBL431859</td>\n",
       "      <td>238.0</td>\n",
       "      <td>nM</td>\n",
       "      <td>CCn1c(C(c2ccc(F)cc2)n2ccnc2)c(C)c2cc(Br)ccc21</td>\n",
       "      <td>6.623423</td>\n",
       "    </tr>\n",
       "  </tbody>\n",
       "</table>\n",
       "</div>"
      ],
      "text/plain": [
       "  molecule_chembl_id    IC50 units  \\\n",
       "0       CHEMBL341591  7100.0    nM   \n",
       "1       CHEMBL431859   238.0    nM   \n",
       "\n",
       "                                          smiles     PIC50  \n",
       "0      CC12CCC(O)CC1=CCC1C2CCC2(C)C(CC3CN3)CCC12  5.148742  \n",
       "1  CCn1c(C(c2ccc(F)cc2)n2ccnc2)c(C)c2cc(Br)ccc21  6.623423  "
      ]
     },
     "execution_count": 28,
     "metadata": {},
     "output_type": "execute_result"
    }
   ],
   "source": [
    "# Add PIC50 values.\n",
    "\n",
    "def convert_ic50_to_pic50(IC50_value):\n",
    "    pIC50_value = 9 - math.log10(IC50_value)\n",
    "    return pIC50_value\n",
    "\n",
    "\n",
    "output_df[\"PIC50\"] = output_df.apply(lambda x: convert_ic50_to_pic50(x.IC50), axis=1)\n",
    "\n",
    "output_df.head(2)"
   ]
  },
  {
   "cell_type": "code",
   "execution_count": 30,
   "id": "c3bb2392",
   "metadata": {},
   "outputs": [
    {
     "data": {
      "text/plain": [
       "(3.1095789811990855, 10.823908740944319)"
      ]
     },
     "execution_count": 30,
     "metadata": {},
     "output_type": "execute_result"
    }
   ],
   "source": [
    "output_df.PIC50.min(), output_df.PIC50.max()"
   ]
  },
  {
   "cell_type": "code",
   "execution_count": 33,
   "id": "e283592b",
   "metadata": {},
   "outputs": [
    {
     "data": {
      "text/plain": [
       "array([[<Axes: title={'center': 'PIC50'}>]], dtype=object)"
      ]
     },
     "execution_count": 33,
     "metadata": {},
     "output_type": "execute_result"
    },
    {
     "data": {
      "image/png": "[encoded data removed]",
      "text/plain": [
       "<Figure size 640x480 with 1 Axes>"
      ]
     },
     "metadata": {},
     "output_type": "display_data"
    }
   ],
   "source": [
    "output_df.hist(column=\"PIC50\", bins= 50)"
   ]
  },
  {
   "cell_type": "markdown",
   "id": "d4f34e45",
   "metadata": {},
   "source": [
    "#### Add a column for RDKit molecule objects to our DataFrame and look at the structures of the molecules with the highest pIC50 values."
   ]
  },
  {
   "cell_type": "code",
   "execution_count": 35,
   "id": "89ca3188",
   "metadata": {},
   "outputs": [
    {
     "data": {
      "text/html": [
       "<div>\n",
       "<style scoped>\n",
       "    .dataframe tbody tr th:only-of-type {\n",
       "        vertical-align: middle;\n",
       "    }\n",
       "\n",
       "    .dataframe tbody tr th {\n",
       "        vertical-align: top;\n",
       "    }\n",
       "\n",
       "    .dataframe thead th {\n",
       "        text-align: right;\n",
       "    }\n",
       "</style>\n",
       "<table border=\"1\" class=\"dataframe\">\n",
       "  <thead>\n",
       "    <tr style=\"text-align: right;\">\n",
       "      <th></th>\n",
       "      <th>molecule_chembl_id</th>\n",
       "      <th>IC50</th>\n",
       "      <th>units</th>\n",
       "      <th>smiles</th>\n",
       "      <th>PIC50</th>\n",
       "      <th>ROMol</th>\n",
       "    </tr>\n",
       "  </thead>\n",
       "  <tbody>\n",
       "    <tr>\n",
       "      <th>0</th>\n",
       "      <td>CHEMBL1672980</td>\n",
       "      <td>0.015</td>\n",
       "      <td>nM</td>\n",
       "      <td>COc1ccc(-c2cc(N(Cc3ccc(OS(N)(=O)=O)cc3)n3cnnc3...</td>\n",
       "      <td>10.823909</td>\n",
       "      <td>&lt;rdkit.Chem.rdchem.Mol object at 0x0000023573B...</td>\n",
       "    </tr>\n",
       "    <tr>\n",
       "      <th>1</th>\n",
       "      <td>CHEMBL1672978</td>\n",
       "      <td>0.015</td>\n",
       "      <td>nM</td>\n",
       "      <td>N#Cc1ccc(N(Cc2ccc(OS(N)(=O)=O)c(Cl)c2)n2cnnc2)...</td>\n",
       "      <td>10.823909</td>\n",
       "      <td>&lt;rdkit.Chem.rdchem.Mol object at 0x0000023573B...</td>\n",
       "    </tr>\n",
       "    <tr>\n",
       "      <th>2</th>\n",
       "      <td>CHEMBL1672979</td>\n",
       "      <td>0.018</td>\n",
       "      <td>nM</td>\n",
       "      <td>N#Cc1ccc(N(Cc2ccc(OS(N)(=O)=O)c(Br)c2)n2cnnc2)...</td>\n",
       "      <td>10.744727</td>\n",
       "      <td>&lt;rdkit.Chem.rdchem.Mol object at 0x0000023573B...</td>\n",
       "    </tr>\n",
       "    <tr>\n",
       "      <th>3</th>\n",
       "      <td>CHEMBL310735</td>\n",
       "      <td>0.037</td>\n",
       "      <td>nM</td>\n",
       "      <td>C[C@H]1CC2C3CCC(=O)C3(C)CCC2C2(C)CCCC=C12</td>\n",
       "      <td>10.431798</td>\n",
       "      <td>&lt;rdkit.Chem.rdchem.Mol object at 0x0000023573D...</td>\n",
       "    </tr>\n",
       "    <tr>\n",
       "      <th>4</th>\n",
       "      <td>CHEMBL305205</td>\n",
       "      <td>0.049</td>\n",
       "      <td>nM</td>\n",
       "      <td>C[C@@H]1CC2C3CCC(=O)C3(C)CCC2C2(C)CCCC=C12</td>\n",
       "      <td>10.309804</td>\n",
       "      <td>&lt;rdkit.Chem.rdchem.Mol object at 0x0000023573D...</td>\n",
       "    </tr>\n",
       "  </tbody>\n",
       "</table>\n",
       "</div>"
      ],
      "text/plain": [
       "  molecule_chembl_id   IC50 units  \\\n",
       "0      CHEMBL1672980  0.015    nM   \n",
       "1      CHEMBL1672978  0.015    nM   \n",
       "2      CHEMBL1672979  0.018    nM   \n",
       "3       CHEMBL310735  0.037    nM   \n",
       "4       CHEMBL305205  0.049    nM   \n",
       "\n",
       "                                              smiles      PIC50  \\\n",
       "0  COc1ccc(-c2cc(N(Cc3ccc(OS(N)(=O)=O)cc3)n3cnnc3...  10.823909   \n",
       "1  N#Cc1ccc(N(Cc2ccc(OS(N)(=O)=O)c(Cl)c2)n2cnnc2)...  10.823909   \n",
       "2  N#Cc1ccc(N(Cc2ccc(OS(N)(=O)=O)c(Br)c2)n2cnnc2)...  10.744727   \n",
       "3          C[C@H]1CC2C3CCC(=O)C3(C)CCC2C2(C)CCCC=C12  10.431798   \n",
       "4         C[C@@H]1CC2C3CCC(=O)C3(C)CCC2C2(C)CCCC=C12  10.309804   \n",
       "\n",
       "                                               ROMol  \n",
       "0  <rdkit.Chem.rdchem.Mol object at 0x0000023573B...  \n",
       "1  <rdkit.Chem.rdchem.Mol object at 0x0000023573B...  \n",
       "2  <rdkit.Chem.rdchem.Mol object at 0x0000023573B...  \n",
       "3  <rdkit.Chem.rdchem.Mol object at 0x0000023573D...  \n",
       "4  <rdkit.Chem.rdchem.Mol object at 0x0000023573D...  "
      ]
     },
     "execution_count": 35,
     "metadata": {},
     "output_type": "execute_result"
    }
   ],
   "source": [
    "# Add molecule column\n",
    "PandasTools.AddMoleculeColumnToFrame(output_df, smilesCol=\"smiles\")\n",
    "\n",
    "# Sort molecules by pIC50\n",
    "output_df.sort_values(by=\"PIC50\", ascending=False, inplace=True)\n",
    "\n",
    "# Reset index\n",
    "output_df.reset_index(drop=True, inplace=True)\n",
    "\n",
    "output_df.head()"
   ]
  },
  {
   "cell_type": "code",
   "execution_count": 37,
   "id": "bbda59c8",
   "metadata": {},
   "outputs": [],
   "source": [
    "output_df.to_csv(\"Aromatase_bioactivity_and_drugs\", index= False)"
   ]
  },
  {
   "cell_type": "code",
   "execution_count": null,
   "id": "32f8b8ae",
   "metadata": {},
   "outputs": [],
   "source": []
  },
  {
   "cell_type": "code",
   "execution_count": null,
   "id": "17d93679",
   "metadata": {},
   "outputs": [],
   "source": []
  }
 ],
 "metadata": {
  "kernelspec": {
   "display_name": "Python 3 (ipykernel)",
   "language": "python",
   "name": "python3"
  },
  "language_info": {
   "codemirror_mode": {
    "name": "ipython",
    "version": 3
   },
   "file_extension": ".py",
   "mimetype": "text/x-python",
   "name": "python",
   "nbconvert_exporter": "python",
   "pygments_lexer": "ipython3",
   "version": "3.11.6"
  }
 },
 "nbformat": 4,
 "nbformat_minor": 5
}
